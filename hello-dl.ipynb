{
 "cells": [
  {
   "cell_type": "code",
   "execution_count": null,
   "id": "6af92bad",
   "metadata": {},
   "outputs": [],
   "source": [
    "%matplotlib notebook\n",
    "%precision 3\n",
    "\n",
    "from pandas.plotting import register_matplotlib_converters\n",
    "register_matplotlib_converters()\n",
    "import pytz\n",
    "import math\n",
    "import tikzplotlib\n",
    "import matplotlib\n",
    "import matplotlib.pyplot as plt\n",
    "plt.rcParams['figure.figsize'] = [9.5, 7]\n",
    "import datetime\n",
    "import pandas\n",
    "import scipy\n",
    "import scipy.special\n",
    "import numpy as np\n",
    "import urllib.request\n",
    "import json\n",
    "from sqlalchemy import create_engine\n",
    "from matplotlib.ticker import (MultipleLocator, FormatStrFormatter,\n",
    "                               AutoMinorLocator, LogLocator, FixedLocator, FixedFormatter, NullLocator)\n",
    "from matplotlib.dates import DateFormatter\n",
    "from matplotlib.animation import FuncAnimation\n",
    "from datetime import timedelta\n",
    "\n",
    "import itertools\n",
    "\n",
    "import matplotlib.animation as animation\n",
    "\n",
    "matplotlib.rcParams['timezone'] = 'Europe/Amsterdam'"
   ]
  },
  {
   "cell_type": "code",
   "execution_count": null,
   "id": "16b75653",
   "metadata": {},
   "outputs": [],
   "source": [
    "engine=create_engine(\"sqlite:////home/ahu/git/hello-dl/threeorseven.sqlite3\")\n",
    "#engine=create_engine(\"sqlite:////home/ahu/git/hello-dl/yo.sqlite3\")\n",
    "scores = pandas.read_sql_query(\"SELECT * from data\", engine)\n"
   ]
  },
  {
   "cell_type": "code",
   "execution_count": null,
   "id": "b9fe7d79",
   "metadata": {},
   "outputs": [],
   "source": [
    "plt.figure()\n",
    "plt.hist(scores[scores.label==3].res, bins=75, lw=2, histtype='step', density=True, label='3')\n",
    "plt.hist(scores[scores.label==7].res, bins=75, lw=2, histtype='step', density=True, label='7')\n",
    "plt.xlabel(\"Score\")\n",
    "plt.ylabel(\"Density\")\n",
    "plt.legend()\n",
    "plt.grid()\n",
    "plt.savefig(\"linear-histo.svg\")"
   ]
  },
  {
   "cell_type": "code",
   "execution_count": null,
   "id": "6411838e",
   "metadata": {},
   "outputs": [],
   "source": [
    "engine2=create_engine(\"sqlite:////home/ahu/git/hello-dl/37learn.sqlite3\")\n",
    "scores2 = pandas.read_sql_query(\"SELECT * from data\", engine2)\n"
   ]
  },
  {
   "cell_type": "code",
   "execution_count": null,
   "id": "c2cda650",
   "metadata": {},
   "outputs": [],
   "source": [
    "plt.figure()\n",
    "plt.hist(scores2[scores2.label==3].res, bins=75, lw=2, histtype='step', density=True, label='3')\n",
    "plt.hist(scores2[scores2.label==7].res, bins=75, lw=2, histtype='step', density=True, label='7')\n",
    "plt.xlabel(\"Score\")\n",
    "plt.ylabel(\"Density\")\n",
    "plt.legend()\n",
    "plt.grid()\n",
    "plt.savefig(\"linear-learned-histo.svg\")"
   ]
  },
  {
   "cell_type": "code",
   "execution_count": null,
   "id": "1d53ca6c",
   "metadata": {},
   "outputs": [],
   "source": [
    "scores2.groupby([\"label\", \"verdict\"]).count()"
   ]
  },
  {
   "cell_type": "code",
   "execution_count": null,
   "id": "847bacd4",
   "metadata": {},
   "outputs": [],
   "source": [
    "x = np.linspace(1, 4.5, 1000)\n",
    "y = x*np.cos(x)\n",
    "#dy = -np.sin(x)*x + np.cos(x)\n",
    "plt.figure(figsize=(6,4))\n",
    "plt.plot(x, y, lw=2,label = \"$ y = x\\cdot{}cos(x)$\")\n",
    "#plt.plot(x, dy, label = \"$dy/dx$\")\n",
    "\n",
    "def dydx(x):\n",
    "    return -math.sin(x)*x + math.cos(x)\n",
    "\n",
    "lex=1.0\n",
    "for c in range(0,10): \n",
    "    plt.arrow(lex, lex*math.cos(lex), -0.2 * dydx(lex), -0.2*dydx(lex)*dydx(lex), width=0.025, color='black', length_includes_head=True)\n",
    "    lex = lex -0.2*dydx(lex)\n",
    "    #plt.arrow(lex+0.1, lex*math.cos(lex), 0, 0.1*(-math.sin(lex)*lex + math.cos(lex)), width=0.025)\n",
    "    \n",
    "plt.xlabel(\"x\")    \n",
    "plt.ylabel(\"y\")\n",
    "plt.legend()\n",
    "plt.grid()\n",
    "plt.title(\"One dimensional hill climbing using 0.1 of the derivative\")\n",
    "plt.savefig(\"hill-climbing.svg\")"
   ]
  },
  {
   "cell_type": "code",
   "execution_count": null,
   "id": "dd04d33f",
   "metadata": {},
   "outputs": [],
   "source": [
    "enginerelu=create_engine(\"sqlite:////home/ahu/git/hello-dl/tensor-relu.sqlite3\")\n",
    "\n",
    "training = pandas.read_sql_query(\"SELECT * from training\", enginerelu)\n",
    "validation = pandas.read_sql_query(\"SELECT * from validation\", enginerelu)\n",
    "confusion = pandas.read_sql_query(\"SELECT * from confusion\", enginerelu)\n"
   ]
  },
  {
   "cell_type": "code",
   "execution_count": null,
   "id": "d46d1a88",
   "metadata": {},
   "outputs": [],
   "source": [
    "plt.figure(figsize=(6,4))\n",
    "\n",
    "plt.plot(training.batchno, training.corperc, label=\"training\")\n",
    "plt.plot(validation.batchno, validation.corperc, label=\"validation\")\n",
    "plt.grid()\n",
    "plt.xlabel(\"Batch number\")\n",
    "plt.ylabel(\"%\")\n",
    "plt.legend()\n",
    "plt.title(\"Percentage of digits classified correctly\")\n",
    "plt.savefig(\"tensor-relu.svg\")"
   ]
  },
  {
   "cell_type": "code",
   "execution_count": null,
   "id": "3f0f5144",
   "metadata": {},
   "outputs": [],
   "source": [
    "plt.figure(figsize=(6,4))\n",
    "\n",
    "plt.plot(training.batchno, training.avgloss, label=\"training\")\n",
    "plt.plot(validation.batchno, validation.avgloss, label=\"validation\")\n",
    "plt.grid()\n",
    "plt.xlabel(\"Batch number\")\n",
    "plt.ylabel(\"loss\")\n",
    "plt.legend()\n",
    "plt.title(\"Average loss\")\n",
    "plt.savefig(\"tensor-relu-loss.svg\")"
   ]
  },
  {
   "cell_type": "code",
   "execution_count": null,
   "id": "0f75b1fc",
   "metadata": {},
   "outputs": [],
   "source": [
    "enginerelubef=create_engine(\"sqlite:////home/ahu/git/hello-dl/tensor-relu-before.sqlite3\")\n",
    "\n",
    "enginerelu=create_engine(\"sqlite:////home/ahu/git/hello-dl/tensor-relu.sqlite3\")\n",
    "\n",
    "training = pandas.read_sql_query(\"SELECT * from training\", enginerelu)\n",
    "validation = pandas.read_sql_query(\"SELECT * from validation\", enginerelu)\n",
    "validationbef = pandas.read_sql_query(\"SELECT * from validation\", enginerelubef)\n"
   ]
  },
  {
   "cell_type": "code",
   "execution_count": null,
   "id": "782ff5f5",
   "metadata": {},
   "outputs": [],
   "source": [
    "plt.figure(figsize=(6,4))\n",
    "plt.plot(training.batchno, training.corperc, label=\"training\")\n",
    "plt.plot(validation.batchno, validation.corperc, label=\"validation, slightly changed\")\n",
    "plt.plot(validationbef.batchno, validationbef.corperc, label=\"validation\")\n",
    "plt.grid()\n",
    "plt.xlabel(\"Batch number\")\n",
    "plt.ylabel(\"%\")\n",
    "plt.legend()\n",
    "plt.title(\"Percentage of digits classified correctly\")\n",
    "plt.savefig(\"slightly-moved.svg\")"
   ]
  },
  {
   "cell_type": "code",
   "execution_count": null,
   "id": "4afde6ba",
   "metadata": {},
   "outputs": [],
   "source": [
    "confusion"
   ]
  },
  {
   "cell_type": "code",
   "execution_count": null,
   "id": "efd77f81",
   "metadata": {},
   "outputs": [],
   "source": [
    "mat = []\n",
    "for c in range(0,10):\n",
    "    mat.append([])\n",
    "    for r in range(0,10):\n",
    "        mat[c].append(confusion[(confusion.r==r) & (confusion.c==c)][\"count\"].sum())\n",
    "        \n",
    "mat"
   ]
  },
  {
   "cell_type": "code",
   "execution_count": null,
   "id": "486031d0",
   "metadata": {},
   "outputs": [],
   "source": [
    "plt.figure()\n",
    "plt.imshow(mat)"
   ]
  },
  {
   "cell_type": "code",
   "execution_count": null,
   "id": "f34c160e",
   "metadata": {},
   "outputs": [],
   "source": [
    "df = pandas.DataFrame(mat)\n",
    "print(df.style.set_properties(**{'font-size':'8pt'}).background_gradient('Greys').format(precision=0).to_html())"
   ]
  },
  {
   "cell_type": "code",
   "execution_count": null,
   "id": "b6c11002",
   "metadata": {
    "scrolled": true
   },
   "outputs": [],
   "source": [
    "x=np.linspace(-3,3,100)\n",
    "plt.figure(figsize=(6,4))\n",
    "y1=0.5*x*(1 + scipy.special.erf(x/np.sqrt(2)))\n",
    "plt.plot(x, y1, label=\"gelu\")\n",
    "plt.xlabel(\"x\")\n",
    "plt.ylabel(\"y\")\n",
    "plt.axhline(0, color='black', linewidth=1)\n",
    "plt.axvline(0, color='black', linewidth=1)\n",
    "\n",
    "plt.grid()\n",
    "plt.legend()\n",
    "plt.title(\"Gaussian Error \\\"Linear\\\" Unit\")\n",
    "plt.savefig(\"gelu.svg\")\n",
    "\n"
   ]
  },
  {
   "cell_type": "code",
   "execution_count": null,
   "id": "8caec7ff",
   "metadata": {},
   "outputs": [],
   "source": [
    "l=pandas.read_csv(\"/home/ahu/git/hello-dl/l.csv\", names=[\"idx\", \"val\"])\n",
    "l.set_index(\"idx\", inplace=True)\n",
    "plt.figure()\n",
    "plt.title(\"Loss of GRU language model\")\n",
    "plt.ylabel(\"Loss\")\n",
    "plt.xlabel(\"Epoch\")\n",
    "plt.plot(100*l.val.index/245448, l.val.rolling(10).mean())\n",
    "plt.yscale(\"log\")\n",
    "plt.grid()\n"
   ]
  },
  {
   "cell_type": "code",
   "execution_count": null,
   "id": "79a0dc53",
   "metadata": {},
   "outputs": [],
   "source": []
  },
  {
   "cell_type": "code",
   "execution_count": null,
   "id": "8eb319b5",
   "metadata": {},
   "outputs": [],
   "source": [
    "enginerelu=create_engine(\"sqlite:////home/ahu/git/hello-dl/convo-vals.sqlite3\")\n",
    "\n",
    "training = pandas.read_sql_query(\"SELECT * from training\", enginerelu)\n",
    "validation = pandas.read_sql_query(\"SELECT * from validation\", enginerelu)\n",
    "#confusion = pandas.read_sql_query(\"SELECT * from confusion\", enginerelu)\n",
    "training = training[training.startID==1676748833]\n",
    "validation = validation[validation.startID==1676748833]"
   ]
  },
  {
   "cell_type": "code",
   "execution_count": null,
   "id": "b3a267a2",
   "metadata": {},
   "outputs": [],
   "source": [
    "plt.figure(figsize=(6,4))\n",
    "\n",
    "plt.plot(training.elapsed/3600, training.corperc.rolling(30).mean(), label=\"training\")\n",
    "plt.plot(validation.elapsed/3600, validation.corperc.rolling(10).mean(), label=\"validation\")\n",
    "plt.grid()\n",
    "plt.xlabel(\"Batch number\")\n",
    "plt.ylabel(\"%\")\n",
    "plt.legend()\n",
    "plt.title(\"Percentage of digits classified correctly\")\n",
    "plt.savefig(\"tensor-convo-sgd.svg\")"
   ]
  },
  {
   "cell_type": "code",
   "execution_count": null,
   "id": "9d152611",
   "metadata": {},
   "outputs": [],
   "source": [
    "plt.figure(figsize=(6,4))\n",
    "\n",
    "plt.plot(training.batchno, training.avgloss, label=\"training\")\n",
    "plt.plot(validation.batchno, validation.avgloss, label=\"validation\")\n",
    "plt.grid()\n",
    "plt.xlabel(\"Batch number\")\n",
    "plt.ylabel(\"loss\")\n",
    "plt.legend()\n",
    "plt.title(\"Average loss\")\n",
    "plt.savefig(\"tensor-relu-loss.svg\")"
   ]
  },
  {
   "cell_type": "code",
   "execution_count": null,
   "id": "eaae6a1c",
   "metadata": {},
   "outputs": [],
   "source": [
    "p = pandas.read_csv(\"/home/ahu/git/hello-dl/plot.csv\", sep=\"\\t\")"
   ]
  },
  {
   "cell_type": "code",
   "execution_count": null,
   "id": "a3bd98ea",
   "metadata": {},
   "outputs": [],
   "source": [
    "plt.figure()\n",
    "plt.plot(p.num, p.val.rolling(10).mean())\n"
   ]
  },
  {
   "cell_type": "code",
   "execution_count": null,
   "id": "b9f6aa6d",
   "metadata": {
    "scrolled": false
   },
   "outputs": [],
   "source": [
    "# set parameters\n",
    "frames = range(0, 20)\n",
    "\n",
    "# set how the graph will change each frame\n",
    "\n",
    "# init the figure\n",
    "fig, ax = plt.subplots(figsize=(6,4))\n",
    "\n",
    "x = np.linspace(1, 4.5, 1000)\n",
    "y = x*np.cos(x) \n",
    "def dydx(x):\n",
    "    return -math.sin(x)*x + math.cos(x)\n",
    "\n",
    "\n",
    "def update(i):\n",
    "    # clear the axis each frame\n",
    "    ax.clear()\n",
    "    ax.set_xlim(0.7,4.8)\n",
    "    ax.set_ylim(-4.5,1)\n",
    "    ax.grid()\n",
    "    # replot things\n",
    "    ax.plot(x, y, lw=2,label = \"$ y = x\\cdot{}cos(x)$\")\n",
    "\n",
    "    lex=1.0\n",
    "    for c in range(0,i): \n",
    "        ax.arrow(lex, lex*math.cos(lex) , -0.2 * dydx(lex), -0.2*dydx(lex)*dydx(lex), width=0.025, color='black',\n",
    "                 length_includes_head=True)\n",
    "        lex = lex -0.2*dydx(lex)\n",
    "\n",
    "    ax.legend()\n",
    "    ax.set_title(\"Gradient descent without momentum\")          \n",
    "    # reformat things\n",
    "    ax.set_xlabel('x')\n",
    "    ax.set_ylabel('y')\n",
    "\n",
    "ani = animation.FuncAnimation(fig, update, frames=frames, interval=500)\n",
    "ani.save('sgd.gif', writer='imagemagick', fps=3)"
   ]
  },
  {
   "cell_type": "code",
   "execution_count": null,
   "id": "46030836",
   "metadata": {
    "scrolled": false
   },
   "outputs": [],
   "source": [
    "# set parameters\n",
    "frames = range(0, 20)\n",
    "\n",
    "# set how the graph will change each frame\n",
    "\n",
    "# init the figure\n",
    "fig, ax = plt.subplots(figsize=(6,4))\n",
    "alpha=0.225\n",
    "x = np.linspace(0.5, 4.5, 1000)\n",
    "y = x*np.cos(x) - alpha*np.sin(6*x)\n",
    "\n",
    "def dydx(x):\n",
    "    return -math.sin(x)*x + math.cos(x) - 6*alpha*np.cos(6*x)\n",
    "\n",
    "\n",
    "def update(i):\n",
    "    # clear the axis each frame\n",
    "    ax.clear()\n",
    "    ax.set_xlim(0.5,4.8)\n",
    "    ax.set_ylim(-4.5,1)\n",
    "    ax.grid()\n",
    "    # replot things\n",
    "    ax.plot(x, y, lw=2,label = \"$ y = x\\cdot{}cos(x) -0.2\\cdot{}sin(6x)$\")\n",
    "\n",
    "    lex=0.85\n",
    "    v=0\n",
    "    for c in range(0,i): \n",
    "        #ax.arrow(lex, lex*math.cos(lex) - alpha*math.sin(6*lex), -0.2 * dydx(lex), -0.2*dydx(lex)*dydx(lex), width=0.025, color='black',\n",
    "        #         length_includes_head=True)\n",
    "        \n",
    "        v = 0.1 * v + 0.9*dydx(lex)\n",
    "        \n",
    "        ax.arrow(lex, lex*math.cos(lex) - alpha*math.sin(6*lex), -0.2 * v, -0.2*v*v, width=0.025, color='black',\n",
    "                 length_includes_head=True)\n",
    "\n",
    "        #lex = lex -0.2*dydx(lex)\n",
    "        lex = lex -0.2*v\n",
    "\n",
    "    ax.legend()\n",
    "    ax.set_title(\"Gradient descent with momentum\")\n",
    "    # reformat things\n",
    "    ax.set_xlabel('x')\n",
    "    ax.set_ylabel('y')\n",
    "\n",
    "ani = animation.FuncAnimation(fig, update, frames=frames, interval=500)\n",
    "ani.save('sgd-complex-momentum.gif', writer='imagemagick', fps=3)"
   ]
  },
  {
   "cell_type": "code",
   "execution_count": null,
   "id": "3ca6451e",
   "metadata": {},
   "outputs": [],
   "source": [
    "x = np.linspace(1, 4.5, 1000)\n",
    "y = x*np.cos(x)\n",
    "#dy = -np.sin(x)*x + np.cos(x)\n",
    "plt.figure(figsize=(6,4))\n",
    "plt.plot(x, y, lw=2,label = \"$ y = x\\cdot{}cos(x)$\")\n",
    "#plt.plot(x, dy, label = \"$dy/dx$\")\n",
    "\n",
    "def dydx(x):\n",
    "    return -math.sin(x)*x + math.cos(x)\n",
    "\n",
    "lex=1.0\n",
    "for c in range(0,10): \n",
    "    plt.arrow(lex, lex*math.cos(lex), -0.2 * dydx(lex), -0.2*dydx(lex)*dydx(lex), width=0.025, color='black', length_includes_head=True)\n",
    "    lex = lex -0.2*dydx(lex)\n",
    "    #plt.arrow(lex+0.1, lex*math.cos(lex), 0, 0.1*(-math.sin(lex)*lex + math.cos(lex)), width=0.025)\n",
    "    \n",
    "plt.xlabel(\"x\")    \n",
    "plt.ylabel(\"y\")\n",
    "plt.legend()\n",
    "plt.grid()\n",
    "plt.title(\"One dimensional hill climbing using 0.1 of the derivative\")\n",
    "plt.savefig(\"hill-climbing.svg\")"
   ]
  },
  {
   "cell_type": "code",
   "execution_count": null,
   "id": "2ddb0862",
   "metadata": {},
   "outputs": [],
   "source": []
  }
 ],
 "metadata": {
  "kernelspec": {
   "display_name": "Python 3 (ipykernel)",
   "language": "python",
   "name": "python3"
  },
  "language_info": {
   "codemirror_mode": {
    "name": "ipython",
    "version": 3
   },
   "file_extension": ".py",
   "mimetype": "text/x-python",
   "name": "python",
   "nbconvert_exporter": "python",
   "pygments_lexer": "ipython3",
   "version": "3.10.6"
  }
 },
 "nbformat": 4,
 "nbformat_minor": 5
}
